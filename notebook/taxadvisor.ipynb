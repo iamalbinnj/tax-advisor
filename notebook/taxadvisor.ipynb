{
 "cells": [
  {
   "cell_type": "code",
   "execution_count": 30,
   "metadata": {},
   "outputs": [],
   "source": [
    "import ollama\n",
    "from langchain_ollama import OllamaLLM\n",
    "from langchain.chains import create_retrieval_chain  \n",
    "from langchain_chroma import Chroma\n",
    "from langchain_ollama import OllamaEmbeddings\n",
    "from langchain.prompts import PromptTemplate"
   ]
  },
  {
   "cell_type": "code",
   "execution_count": 31,
   "metadata": {},
   "outputs": [],
   "source": [
    "model_name = \"zephyr:7b-beta-q4_K_S\"\n",
    "llm = OllamaLLM(model=model_name, max_tokens=200) "
   ]
  },
  {
   "cell_type": "code",
   "execution_count": 32,
   "metadata": {},
   "outputs": [],
   "source": [
    "persist_directory = \"../model/taxadvisordb_v1-0\""
   ]
  },
  {
   "cell_type": "code",
   "execution_count": 33,
   "metadata": {},
   "outputs": [],
   "source": [
    "embeddings = OllamaEmbeddings(model=\"nomic-embed-text\")"
   ]
  },
  {
   "cell_type": "code",
   "execution_count": 34,
   "metadata": {},
   "outputs": [],
   "source": [
    "vector_db = Chroma(persist_directory=persist_directory, embedding_function=embeddings)"
   ]
  },
  {
   "cell_type": "code",
   "execution_count": 35,
   "metadata": {},
   "outputs": [],
   "source": [
    "retriever = vector_db.as_retriever(search_kwargs={\"k\": 2})"
   ]
  },
  {
   "cell_type": "code",
   "execution_count": 36,
   "metadata": {},
   "outputs": [
    {
     "name": "stdout",
     "output_type": "stream",
     "text": [
      "[Document(id='3eebcdde-8f6f-447c-a3c1-73a28edfc6f2', metadata={'keywords': 'taxable income, income tax return, file taxes, non-filing, tax consequences, penalties, IRS', 'source': 'ITR_FAQs.csv'}, page_content=\"Query: What will happen when I have taxable income but do not File my Income Tax Return?\\nSolution: Having taxable income and not filing an income tax return can put you in trouble with the Income Tax Authorities. Be prepared to welcome notices from the Income Tax Department along with fines and penalties. The consequences of non-filing of return are:\\n\\nLate filing Fee u/s 234F shall be levied if the return is not filed on or before the due date. The quantum of fees shall vary according to the amount of your income and return filing date. The maximum fee levied is Rs. 5000/-.\\nNotice u/s 142(1), which requires you to file your return if you have not filed it before the due date. if you fail to comply with this notice, then it may result in\\n(a) Best Judgment Assessment u/s 144 and/or\\n(b) Penalty of Rs. 10,000 u/s 271(1)(b) and/or\\n(c) Imprisonment with or without fine u/s 276D.\\nNotice u/s 148 for furnishing return within the period as mentioned in the notice itself.\\nAs per Section 270A, if income is under-reported due to\\n- Wrong disclosure/misreporting then the penalty shall be leviable @200% of tax payable on such income and\\n- In any other case, the penalty shall be 50% of the tax payable on such income\\nA penalty of a minimum of 100% to a maximum of 300% of the amount of tax for concealment of income u/s 271(1)(c).\\nInterest u/s 234A keeps on mounting at the rate of 1% per month/ part of the month till the time you file your return. Also, you'd be required to pay interest u/s 234B and 234C, both at the rate of 1% per month/ part of the month if you've not complied with the advance tax provisions at the time of late filing of return.\\nIf you have losses (Business, Capital loss) that you want to be carried forward, you can not carry forward your loss if you do not file an Income Tax Return or file after the due date.\"), Document(id='b319407e-2051-4e84-94b7-a90cbe7af958', metadata={'keywords': 'e-verify, income tax return, not verifying, penalties, consequences', 'source': 'ITR_FAQs.csv'}, page_content=\"Query: What will happen if I don't e-verify my income tax return?\\nSolution: You are required to either e-verify your return or send it to CPC, Income Tax Department, Bengaluru, within 30 days of filing the return, failing to do so will result in invalidation of the return, which means the return will be considered as having never been filed. You can file a belated return if you have not verified your return in the stipulated time but it will be filed with the penalty applicable u/s 234F.\")]\n"
     ]
    }
   ],
   "source": [
    "docs = retriever.invoke(\"Can failing to submit an income tax return lead to prosecution?\")\n",
    "print(docs)"
   ]
  },
  {
   "cell_type": "code",
   "execution_count": 14,
   "metadata": {},
   "outputs": [],
   "source": [
    "def format_docs(docs):\n",
    "    return \"\\n\\n\".join([doc.page_content for doc in docs])"
   ]
  },
  {
   "cell_type": "code",
   "execution_count": 17,
   "metadata": {},
   "outputs": [],
   "source": [
    "prompt_template = PromptTemplate(\n",
    "    input_variables=[\"context\", \"query\"],\n",
    "    template=(\n",
    "        \"You are a tax expert. Use the following information to answer the user's question:\\n\\n\"\n",
    "        \"Context:\\n{context}\\n\\n\"\n",
    "        \"Question: {query}\\n\\n\"\n",
    "        \"Answer:\"\n",
    "    ),\n",
    ")"
   ]
  },
  {
   "cell_type": "code",
   "execution_count": 37,
   "metadata": {},
   "outputs": [],
   "source": [
    "import asyncio\n",
    "\n",
    "async def get_answer(query):\n",
    "    retriever = vector_db.as_retriever(search_kwargs={\"k\": 2})  # Fetch fewer docs\n",
    "    docs = await asyncio.to_thread(retriever.invoke, query)  # Async retrieval\n",
    "\n",
    "    context = \"\\n\\n\".join([doc.page_content for doc in docs])\n",
    "    prompt = f\"You are a tax expert. Use the following information to answer the user's question:\\n\\n{context}\\n\\nQuery: {query}\\nAnswer:\"\n",
    "\n",
    "    # Stream response from LLM\n",
    "    async for chunk in llm.astream(prompt):  \n",
    "        print(chunk, end=\"\", flush=True)"
   ]
  },
  {
   "cell_type": "code",
   "execution_count": 40,
   "metadata": {},
   "outputs": [
    {
     "name": "stdout",
     "output_type": "stream",
     "text": [
      "As per the current tax laws, it is mandatory to link your PAN with Aadhaar while filing your ITR (Income Tax Return). This means that you need to provide your Aadhaar number while filling out your ITR form. However, if you have not yet linked your PAN and Aadhaar, you can still file your return, but you will have limited access on the portal. It is advisable to link your PAN with Aadhaar as soon as possible to avoid any inconvenience during the ITR filing process. So, in short, Aadhaar is necessary for filing ITR, as it serves as an important identification document required by the tax authorities."
     ]
    }
   ],
   "source": [
    "query = \"is aadhar neccessery for filing itr\"\n",
    "await get_answer(query)"
   ]
  }
 ],
 "metadata": {
  "kernelspec": {
   "display_name": ".venv",
   "language": "python",
   "name": "python3"
  },
  "language_info": {
   "codemirror_mode": {
    "name": "ipython",
    "version": 3
   },
   "file_extension": ".py",
   "mimetype": "text/x-python",
   "name": "python",
   "nbconvert_exporter": "python",
   "pygments_lexer": "ipython3",
   "version": "3.12.5"
  }
 },
 "nbformat": 4,
 "nbformat_minor": 2
}
